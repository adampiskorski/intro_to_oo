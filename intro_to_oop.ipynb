{
 "metadata": {
  "name": "",
  "signature": "sha256:eb29322d79d0c2923411fe4619db7ba335f5827e079a70048aebd59e91676baf"
 },
 "nbformat": 3,
 "nbformat_minor": 0,
 "worksheets": [
  {
   "cells": [
    {
     "cell_type": "markdown",
     "metadata": {},
     "source": [
      "We all know about the basic data types of Python:"
     ]
    },
    {
     "cell_type": "code",
     "collapsed": false,
     "input": [
      "'1', 1, 1.0, [], {}, (1,0)"
     ],
     "language": "python",
     "metadata": {},
     "outputs": [
      {
       "metadata": {},
       "output_type": "pyout",
       "prompt_number": 1,
       "text": [
        "('1', 1, 1.0, [], {}, (1, 0))"
       ]
      }
     ],
     "prompt_number": 1
    },
    {
     "cell_type": "markdown",
     "metadata": {},
     "source": [
      "Each of these can simply be called a *type* in Python."
     ]
    },
    {
     "cell_type": "markdown",
     "metadata": {},
     "source": [
      "We can find what a type is called with the built in 'type()' function:"
     ]
    },
    {
     "cell_type": "code",
     "collapsed": false,
     "input": [
      "type('1'), type(1), type(1.0), type([]), type({}), type((1,0))"
     ],
     "language": "python",
     "metadata": {},
     "outputs": [
      {
       "metadata": {},
       "output_type": "pyout",
       "prompt_number": 2,
       "text": [
        "(str, int, float, list, dict, tuple)"
       ]
      }
     ],
     "prompt_number": 2
    },
    {
     "cell_type": "markdown",
     "metadata": {},
     "source": [
      "All types have *Attributes* and *Methods*. Let's find out what these are with the built in *dir()* function:"
     ]
    },
    {
     "cell_type": "code",
     "collapsed": false,
     "input": [],
     "language": "python",
     "metadata": {},
     "outputs": []
    }
   ],
   "metadata": {}
  }
 ]
}